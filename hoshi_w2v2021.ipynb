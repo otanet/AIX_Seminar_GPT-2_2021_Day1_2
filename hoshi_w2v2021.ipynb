{
  "nbformat": 4,
  "nbformat_minor": 0,
  "metadata": {
    "colab": {
      "name": "hoshi_w2v2021.ipynb",
      "provenance": [],
      "collapsed_sections": [],
      "include_colab_link": true
    },
    "kernelspec": {
      "name": "python3",
      "display_name": "Python 3"
    }
  },
  "cells": [
    {
      "cell_type": "markdown",
      "metadata": {
        "id": "view-in-github",
        "colab_type": "text"
      },
      "source": [
        "<a href=\"https://colab.research.google.com/github/otanet/AIX_Seminar_GPT-2_2021_Day1_2/blob/main/hoshi_w2v2021.ipynb\" target=\"_parent\"><img src=\"https://colab.research.google.com/assets/colab-badge.svg\" alt=\"Open In Colab\"/></a>"
      ]
    },
    {
      "cell_type": "code",
      "metadata": {
        "id": "87zZS8Pans1o"
      },
      "source": [
        "#↑最初に上の「ドライブにコピー」をクリックして，各自のgoogle drive にコピー．"
      ],
      "execution_count": null,
      "outputs": []
    },
    {
      "cell_type": "code",
      "metadata": {
        "colab": {
          "base_uri": "https://localhost:8080/"
        },
        "id": "-Y275OGxoIXY",
        "outputId": "0af0d80a-db84-476f-d15e-b8c9bacda5fb"
      },
      "source": [
        "#google drive用ダウンロードツールのインストール\n",
        "!pip install gdown"
      ],
      "execution_count": null,
      "outputs": [
        {
          "output_type": "stream",
          "text": [
            "Requirement already satisfied: gdown in /usr/local/lib/python3.7/dist-packages (3.6.4)\n",
            "Requirement already satisfied: requests in /usr/local/lib/python3.7/dist-packages (from gdown) (2.23.0)\n",
            "Requirement already satisfied: tqdm in /usr/local/lib/python3.7/dist-packages (from gdown) (4.62.0)\n",
            "Requirement already satisfied: six in /usr/local/lib/python3.7/dist-packages (from gdown) (1.15.0)\n",
            "Requirement already satisfied: certifi>=2017.4.17 in /usr/local/lib/python3.7/dist-packages (from requests->gdown) (2021.5.30)\n",
            "Requirement already satisfied: urllib3!=1.25.0,!=1.25.1,<1.26,>=1.21.1 in /usr/local/lib/python3.7/dist-packages (from requests->gdown) (1.24.3)\n",
            "Requirement already satisfied: chardet<4,>=3.0.2 in /usr/local/lib/python3.7/dist-packages (from requests->gdown) (3.0.4)\n",
            "Requirement already satisfied: idna<3,>=2.5 in /usr/local/lib/python3.7/dist-packages (from requests->gdown) (2.10)\n"
          ],
          "name": "stdout"
        }
      ]
    },
    {
      "cell_type": "code",
      "metadata": {
        "colab": {
          "base_uri": "https://localhost:8080/"
        },
        "id": "-LyQdQ3lcQz4",
        "outputId": "817f9dc5-da69-4776-93fe-04995d7fdc67"
      },
      "source": [
        "# モデル・小説テキストデータのダウンロードと解凍\n",
        "!gdown http://drive.google.com/uc?id=10MnBNHJLOW8ljeRoEN_QGFi2ko4AS78G\n",
        "!unzip -u hoshi2021.zip"
      ],
      "execution_count": null,
      "outputs": [
        {
          "output_type": "stream",
          "text": [
            "Downloading...\n",
            "From: http://drive.google.com/uc?id=10MnBNHJLOW8ljeRoEN_QGFi2ko4AS78G\n",
            "To: /content/hoshi2021.zip\n",
            "337MB [00:03, 106MB/s] \n",
            "Archive:  hoshi2021.zip\n",
            "  inflating: narou.model             \n",
            "  inflating: narou.model.trainables.syn1neg.npy  \n",
            "  inflating: narou.model.wv.vectors.npy  \n",
            "  inflating: text_ex.txt             \n"
          ],
          "name": "stdout"
        }
      ]
    },
    {
      "cell_type": "code",
      "metadata": {
        "colab": {
          "base_uri": "https://localhost:8080/"
        },
        "id": "Lg5X4ILDcTtr",
        "outputId": "e4238922-a282-43ec-8241-87da0a416f97"
      },
      "source": [
        "# fileの確認\n",
        "!ls -lh"
      ],
      "execution_count": null,
      "outputs": [
        {
          "output_type": "stream",
          "text": [
            "total 820M\n",
            "-rw-r--r-- 1 root root 322M Aug 26 22:22 hoshi2021.zip\n",
            "-rw-r--r-- 1 root root  13M Aug  8  2020 narou.model\n",
            "-rw-r--r-- 1 root root 138M Aug  8  2020 narou.model.trainables.syn1neg.npy\n",
            "-rw-r--r-- 1 root root 138M Aug  8  2020 narou.model.wv.vectors.npy\n",
            "drwxr-xr-x 1 root root 4.0K Aug 25 13:35 sample_data\n",
            "-rw-r--r-- 1 root root 211M Aug 27  2021 text_ex.txt\n"
          ],
          "name": "stdout"
        }
      ]
    },
    {
      "cell_type": "code",
      "metadata": {
        "id": "tPDy4hcMd3y_"
      },
      "source": [
        "from gensim.models import word2vec\n",
        "import random\n",
        "\n",
        "# 学習済モデル読み込み\n",
        "# UserWarningは無視して構わない\n",
        "model = word2vec.Word2Vec.load(\"narou.model\")"
      ],
      "execution_count": null,
      "outputs": []
    },
    {
      "cell_type": "code",
      "metadata": {
        "colab": {
          "base_uri": "https://localhost:8080/"
        },
        "id": "yaKNeIObfNIe",
        "outputId": "1c60fc6f-6dfc-44c1-f4e5-59ea70e6e1f8"
      },
      "source": [
        "# 「みかん」と近い単語は？\n",
        "model.wv.most_similar(positive=[\"みかん\"],topn=3)"
      ],
      "execution_count": null,
      "outputs": [
        {
          "output_type": "execute_result",
          "data": {
            "text/plain": [
              "[('りんご', 0.7284533381462097),\n",
              " ('蜜柑', 0.7066292762756348),\n",
              " ('イチゴ', 0.6932505369186401)]"
            ]
          },
          "metadata": {},
          "execution_count": 5
        }
      ]
    },
    {
      "cell_type": "code",
      "metadata": {
        "colab": {
          "base_uri": "https://localhost:8080/"
        },
        "id": "ogOF13_GfnyH",
        "outputId": "281bf756-5f30-4fe9-d189-81e284d007b4"
      },
      "source": [
        "# 「みかん」のベクトルは？\n",
        "model.wv[\"みかん\"]"
      ],
      "execution_count": null,
      "outputs": [
        {
          "output_type": "execute_result",
          "data": {
            "text/plain": [
              "array([-0.4542149 ,  0.06855229, -0.2985706 ,  0.3017479 ,  0.3541802 ,\n",
              "       -0.430095  , -1.1792494 ,  0.20998707, -0.16037804, -2.276446  ,\n",
              "        0.8155734 , -0.52889216,  0.9915792 ,  0.33341515,  0.1538174 ,\n",
              "        0.06655332,  0.9068962 , -0.15769847,  0.05872735,  0.6015212 ,\n",
              "       -0.53481007, -0.05701365,  1.8322495 , -0.84667665, -0.76320636,\n",
              "       -1.07819   , -0.6398123 , -0.9591858 ,  1.0845939 , -0.62893045,\n",
              "       -0.27044123, -1.1174102 , -1.0640624 ,  0.21038277,  0.16830306,\n",
              "        0.9443911 , -0.2193288 , -0.33386546,  0.8053249 ,  0.47312388,\n",
              "       -0.6861001 , -0.490965  , -0.7938228 , -2.1075451 ,  1.1641824 ,\n",
              "       -0.3757199 , -0.19104272, -0.2924667 , -0.8100532 ,  0.20586266,\n",
              "       -0.90887743, -0.14200428, -0.8256872 ,  0.39506727,  0.6420514 ,\n",
              "        0.45816535, -0.01377243,  0.14390686, -0.14545687,  0.43832743,\n",
              "        0.7805138 , -0.40623158, -1.170061  ,  0.7539022 ,  0.2619178 ,\n",
              "        0.50690347,  1.5561359 ,  0.756908  , -0.3162131 ,  0.8079754 ,\n",
              "       -0.987115  , -0.7760064 , -0.4623125 ,  0.08092059, -0.42469478,\n",
              "       -0.02386158, -0.3119334 , -0.2225063 ,  1.2398838 ,  0.41848361,\n",
              "        0.55516994, -0.20769335, -1.0776963 ,  0.2768224 ,  1.537895  ,\n",
              "        0.09214475, -2.012213  ,  0.33746675,  0.6814814 , -0.5989299 ,\n",
              "        1.2163574 , -0.895803  , -1.5584028 ,  0.01771552,  0.38464105,\n",
              "        0.13115348, -0.615837  , -0.25407   , -0.03054803, -0.3068579 ,\n",
              "       -0.93195456,  0.46416953,  0.05812042, -0.61501515,  1.0193328 ,\n",
              "        1.3456724 , -0.31098875,  1.333396  ,  0.18257359, -0.8291434 ,\n",
              "        0.5906981 , -0.24854745, -0.96624744,  0.05647406, -0.43513238,\n",
              "        0.5084411 , -0.9705308 , -0.69810915,  0.06002291, -0.02263497,\n",
              "       -0.7767591 ,  0.76269174,  0.06777838, -0.00712933,  0.10138301,\n",
              "       -0.5640486 ,  0.7098544 , -0.7072267 ,  0.35657227,  0.08693715,\n",
              "       -0.44701746, -0.00834193, -0.27304822,  0.8730225 , -0.7909809 ,\n",
              "        0.60842115, -0.36289766, -0.7659129 ,  0.42298907, -0.86883795,\n",
              "        0.21449742, -0.13618906, -0.10995761,  1.16714   , -0.6126734 ,\n",
              "       -0.61347115, -0.11049495, -0.173245  , -1.9582379 , -0.78443915,\n",
              "       -1.8264642 ,  0.36108574, -0.515322  ,  0.7591467 , -0.04743634,\n",
              "        0.04194915,  1.2106476 ,  1.820625  ,  2.831129  ,  0.10512239,\n",
              "       -1.0582267 ,  0.04977025,  0.42146295,  0.07423153,  0.94702125,\n",
              "       -0.6790961 , -0.555825  ,  0.2896564 , -0.7072491 ,  0.46275023,\n",
              "       -0.29905054, -0.32693288, -0.4129726 ,  0.15418322, -0.90710324,\n",
              "       -1.9334646 ,  0.6345501 ,  0.21837147, -0.08804175, -1.1551412 ,\n",
              "       -0.6131735 ,  0.1213064 , -0.7343919 , -0.32371226,  1.538448  ,\n",
              "       -1.4782345 , -0.8963072 , -1.0687926 , -0.4556743 ,  0.42409217,\n",
              "        0.5402713 , -0.28364137, -1.3631251 ,  0.09446419, -0.9834724 ,\n",
              "        1.0022684 , -0.00766082,  0.7200759 , -0.4958596 , -0.530056  ],\n",
              "      dtype=float32)"
            ]
          },
          "metadata": {},
          "execution_count": 6
        }
      ]
    },
    {
      "cell_type": "markdown",
      "metadata": {
        "id": "kLBSgBot354y"
      },
      "source": [
        "ここからは 事前に用意した単語リストを使います．</br> \n",
        "画像を事前に送っていただいた方は mail で送られた単語リストを使います．</br>\n",
        "送ってない方は </br>\n",
        "https://drive.google.com/drive/folders/1AGwNl4XJ-T75Jb0o54cQ1_a4mp6nmWFx?usp=sharing </br>\n",
        "ここにあるサンプル画像と単語リストを使ってください．"
      ]
    },
    {
      "cell_type": "code",
      "metadata": {
        "id": "UZel8rZdfyuK"
      },
      "source": [
        "use_file = \"text_ex.txt\" # 小説データ\n",
        "\n",
        "# テキストファイル読み込み\n",
        "with open(use_file, \"r\", encoding=\"utf_8\") as f:\n",
        "    lines = f.readlines()"
      ],
      "execution_count": null,
      "outputs": []
    },
    {
      "cell_type": "code",
      "metadata": {
        "id": "LAxvRybBfyIx",
        "colab": {
          "base_uri": "https://localhost:8080/"
        },
        "outputId": "d1106c3d-bf1b-417d-f931-829b00bfd107"
      },
      "source": [
        "# 小説データから単語と類似語を含む行を取り出す．\n",
        "while(True):\n",
        "    txt = input(\"\\n>\")\n",
        "    if txt == \"exit\":\n",
        "        break\n",
        "    else:\n",
        "        # 入力した単語が含まれている行を調べる\n",
        "        indexs = [i for i, s in enumerate(lines) if txt in s]\n",
        "        if indexs:\n",
        "            # 調べた行の中からランダムに一つ選び前後一行と共に置換しつつ出力\n",
        "            target_index = random.choice(indexs)\n",
        "            try:\n",
        "                result = lines[target_index-1] + lines[target_index] + lines[target_index+1]\n",
        "                print(result)\n",
        "            except IndexError:\n",
        "                print(\"正しくないindexを指定しました。\")\n",
        "        else:\n",
        "            print(\"検索した単語を含んだ文章が見つかりませんでした。\")"
      ],
      "execution_count": null,
      "outputs": [
        {
          "output_type": "stream",
          "text": [
            "\n",
            ">宇宙\n",
            " 　 {ナカジマ,セーズ,スレクト} の {強化,底上げ,増強} 戦闘服 は 姿勢制御 用 の {小型,大型,中型} {スラスター,バーニア,ブースター} が ある 。\n",
            " 　 {そのため,核軍縮,引っ越せる} 、 {宇宙,地球,火星} で も {短時間,短期間,土壇場} で あれ ば {移動,着陸,進入} できる 。\n",
            " 　 {ナカジマ,セーズ,スレクト} と {セーズ,ナカジマ,スレクト} は {敵艦,自艦,友軍} の {艦橋,ブリッジ,CIC} に 取りつい た 。\n",
            "\n",
            "\n",
            ">りんご\n",
            " 「 は はっ 。 見ろ よ {フィリア,サイネリア,メイシア} 。 {マルオ,ミューレリア,ラヴィーネ} の 奴 笑っ て {お前,おまえ,あんた} を 見 てる ぜ 。 何 泣い て ん だ よ って 。 {お前,おまえ,あんた} と共に {戦い,闘い,死闘} たいん だ よ って いっ てる ぜ 。 … … だから さ 。 {フィリア,サイネリア,メイシア} 。 涙 を 拭い て 、 {マルオ,ミューレリア,ラヴィーネ} と共に {りんご,リンゴ,イチゴ} 姫 助け て やれ よ 」\n",
            " 「 ゔんっ 。 ゔんっ 。 ごめん {マルオ,ミューレリア,ラヴィーネ} 。 信じ て やれ なく て 。 {逃げ,逃げ出し,仕留め} {よう,様,みたい} として ごめん ！ お 主 は いつだって {笑顔,笑み,微笑} で {ワシ,儂,わし} を 信じ て くれ て い た 。 戦っ て くれ た 。 今 思い出し た よ 。 … … よし 。 {マルオ,ミューレリア,ラヴィーネ} ！ 共に {りんご,リンゴ,イチゴ} 姫 を {助け,見捨て,救け} に 行こ う ！ ！ 」\n",
            " 　 僕 の 出来る 事 は {ここ,此処,そこ} まで だ な 。 後 は 2人 を 信じ て 見守る だけ でも だ 。\n",
            "\n",
            "\n",
            ">exit\n"
          ],
          "name": "stdout"
        }
      ]
    },
    {
      "cell_type": "code",
      "metadata": {
        "id": "ZtO4qqjMJ7El"
      },
      "source": [
        ""
      ],
      "execution_count": null,
      "outputs": []
    }
  ]
}